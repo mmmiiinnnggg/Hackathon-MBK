{
 "cells": [
  {
   "cell_type": "markdown",
   "id": "3e7947ff-db80-4afb-a61d-b708c8db3ddc",
   "metadata": {},
   "source": [
    "# MBK competition"
   ]
  },
  {
   "cell_type": "code",
   "execution_count": 2,
   "id": "8f537e13-4136-4120-969f-1fde6a500f7e",
   "metadata": {},
   "outputs": [
    {
     "name": "stdout",
     "output_type": "stream",
     "text": [
      "(17891, 124) (7330, 123)\n"
     ]
    }
   ],
   "source": [
    "import numpy as np\n",
    "import pandas as pd\n",
    "import sklearn.preprocessing as prp\n",
    "\n",
    "pd.set_option('display.max_columns', None)\n",
    "\n",
    "train = pd.read_csv('train_dataset_hackathon_mkb.csv', encoding='cp1251', delimiter=';')\n",
    "test = pd.read_csv('test_dataset_hackathon_mkb.csv', encoding='cp1251', delimiter=';')\n",
    "print(train.shape, test.shape)"
   ]
  },
  {
   "cell_type": "markdown",
   "id": "e8d8085b-3035-4d22-ae1d-5b1fda2d74e0",
   "metadata": {},
   "source": [
    "## генерация признаков\n",
    "- тут немного, я попробовал много вариантов, но оставил только те, которые дали прирост скора. \n",
    "- недостаточно для повышенного скора, как оказалось (топ-2 решение генерировал 200+ фичей)"
   ]
  },
  {
   "cell_type": "code",
   "execution_count": 3,
   "id": "378ad637-dac9-4b87-a38a-9d4dc11e1424",
   "metadata": {},
   "outputs": [],
   "source": [
    "def make_features(data):\n",
    "\n",
    "    data['CITIZENSHIP_NAME'] = data['CITIZENSHIP_NAME'].fillna(-1).map({-1: -1, 'Российская Федерация': 4, 'Таджикистан': 3, 'Казахстан': 2, 'Армения': 1})\n",
    "    data['SEX_NAME'] = data['CITIZENSHIP_NAME'].fillna(0).map({0: 0, 'мужской': 1, 'женский': -1})\n",
    "    cat_names = ['OKFS_GROUP', 'OKOPF_GROUP', 'OKOGU_GROUP'] + ['WORKERSRANGE', 'OKVED_CODE'] + ['OKATO_FED','OKTMO_FED']\n",
    "    date_names = ['SIGN_DATE', 'DATEFIRSTREG', 'TAXREG_REGDATE', 'TAXREGPAY_REGDATE', 'BIRTHDATE']\n",
    "    for name in date_names:\n",
    "        data[name] = pd.to_datetime(data[name], format = '%d%b%Y:%H:%M:%S', errors = 'coerce')\n",
    "        data[name + '_dayofweek'] = data[name].dt.dayofweek\n",
    "    def minus_shift(x):\n",
    "        diff = (x-x.shift()).dt.days\n",
    "        return diff.fillna(0)\n",
    "    data['vari_diff'] = data.groupby('id_client')['SIGN_DATE'].apply(minus_shift)\n",
    "    data['vari_diff_mean'] = data.groupby('id_client')['vari_diff'].transform('mean')\n",
    "    # data['vari_diff'] = np.log1p(data_train['vari_diff']) # log-operation\n",
    "    # data['vari_diff_mean'] = np.log1p(data_train['vari_diff_mean']) # log-operation\n",
    "    for name in cat_names + date_names+ ['id_client']:\n",
    "        data[name] = data[name].fillna(-1)\n",
    "        tmp = data[name].value_counts()\n",
    "        tmp = tmp + 0.05 * np.random.randn(len(tmp))\n",
    "        data[name] = data[name].map(tmp)\n",
    "    # data = pd.get_dummies(data, columns = cat_names)\n",
    "    \n",
    "    #for name in cols:\n",
    "    #    data[name] = prp.StandardScaler().fit_transform(data[[name]])\n",
    "    \n",
    "    # data['OKATO_FED'] = np.log1p(data_train['OKATO_FED']) # log-operation\n",
    "    # data['OKTMO_FED'] = np.log1p(data_train['OKTMO_FED']) # log-operation\n",
    "    data.fillna(-1, inplace=True)\n",
    "    return data"
   ]
  },
  {
   "cell_type": "code",
   "execution_count": 4,
   "id": "d0fecd59-bce3-4315-8c58-60db5a032a8e",
   "metadata": {},
   "outputs": [],
   "source": [
    "data_train = make_features(train)\n",
    "data_test = make_features(test)"
   ]
  },
  {
   "cell_type": "markdown",
   "id": "25a052f0-10fe-448c-a5c8-dcc47b53cb4d",
   "metadata": {},
   "source": [
    "## Модель: Lightgbm\n",
    "был немножко тюнинг с GridSearchCV"
   ]
  },
  {
   "cell_type": "code",
   "execution_count": 6,
   "id": "c769d199-a3fa-4feb-b9c0-6bdf1570f242",
   "metadata": {},
   "outputs": [],
   "source": [
    "y = data_train.pop('TARGET').values\n",
    "data_test = data_test[data_train.columns]"
   ]
  },
  {
   "cell_type": "code",
   "execution_count": 8,
   "id": "7eb90f9b-36f6-49df-8063-2b55c8447e58",
   "metadata": {},
   "outputs": [],
   "source": [
    "import lightgbm as lgb\n",
    "import xgboost as xgb\n",
    "\n",
    "model = lgb.LGBMClassifier(num_leaves=30, learning_rate=0.05, n_estimators=500)\n",
    "model.fit(data_train, y)\n",
    "pred = model.predict_proba(data_test)[:, 1]"
   ]
  },
  {
   "cell_type": "code",
   "execution_count": 10,
   "id": "4f926992-193a-4f8d-a1c0-2b35a42c38b1",
   "metadata": {},
   "outputs": [],
   "source": [
    "df = pd.DataFrame({'id_contract': data_test.id_contract.values, 'TARGET': pred})\n",
    "df.to_csv('lightgbm8.csv', sep=';', index=False)"
   ]
  },
  {
   "cell_type": "markdown",
   "id": "116e8701-1c6e-4b40-ad3a-3dc8b912341a",
   "metadata": {},
   "source": [
    "какие фичи дали прирост, а какие нет\n",
    "1. vari_diff +\n",
    "2. log-operation -\n",
    "3. 'OKATO_FED','OKTMO_FED' log???\n",
    "4. dayofweek +\n",
    "5. MinMaxScaler of F --\n",
    "6. 'id_client', 'id_contrast' +"
   ]
  },
  {
   "cell_type": "code",
   "execution_count": null,
   "id": "f748d7d4-aecb-4ddd-b875-740828bd7b04",
   "metadata": {},
   "outputs": [],
   "source": []
  }
 ],
 "metadata": {
  "kernelspec": {
   "display_name": "Python 3",
   "language": "python",
   "name": "python3"
  },
  "language_info": {
   "codemirror_mode": {
    "name": "ipython",
    "version": 3
   },
   "file_extension": ".py",
   "mimetype": "text/x-python",
   "name": "python",
   "nbconvert_exporter": "python",
   "pygments_lexer": "ipython3",
   "version": "3.8.8"
  }
 },
 "nbformat": 4,
 "nbformat_minor": 5
}
